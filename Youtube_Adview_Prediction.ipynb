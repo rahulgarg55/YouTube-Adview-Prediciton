{
  "nbformat": 4,
  "nbformat_minor": 0,
  "metadata": {
    "colab": {
      "name": "Youtube_Adview_Prediction.ipynb",
      "provenance": [],
      "collapsed_sections": [],
      "toc_visible": true
    },
    "kernelspec": {
      "name": "python3",
      "display_name": "Python 3"
    }
  },
  "cells": [
    {
      "cell_type": "code",
      "metadata": {
        "id": "4_9NG2oGYX-3"
      },
      "source": [
        "import numpy as np\r\n",
        "import pandas as pd\r\n",
        "import matplotlib.cm as cm\r\n",
        "import matplotlib.pyplot as plt\r\n",
        "\r\n",
        "# Importing data\r\n",
        "path = \"/content/train.csv\"\r\n",
        "data_train = pd.read_csv(path)"
      ],
      "execution_count": 1,
      "outputs": []
    },
    {
      "cell_type": "code",
      "metadata": {
        "colab": {
          "base_uri": "https://localhost:8080/",
          "height": 195
        },
        "id": "OXsempAmZCax",
        "outputId": "e9e0f8c3-925c-4c0e-e941-32cf996e90ca"
      },
      "source": [
        "data_train.head()"
      ],
      "execution_count": 2,
      "outputs": [
        {
          "output_type": "execute_result",
          "data": {
            "text/html": [
              "<div>\n",
              "<style scoped>\n",
              "    .dataframe tbody tr th:only-of-type {\n",
              "        vertical-align: middle;\n",
              "    }\n",
              "\n",
              "    .dataframe tbody tr th {\n",
              "        vertical-align: top;\n",
              "    }\n",
              "\n",
              "    .dataframe thead th {\n",
              "        text-align: right;\n",
              "    }\n",
              "</style>\n",
              "<table border=\"1\" class=\"dataframe\">\n",
              "  <thead>\n",
              "    <tr style=\"text-align: right;\">\n",
              "      <th></th>\n",
              "      <th>vidid</th>\n",
              "      <th>adview</th>\n",
              "      <th>views</th>\n",
              "      <th>likes</th>\n",
              "      <th>dislikes</th>\n",
              "      <th>comment</th>\n",
              "      <th>published</th>\n",
              "      <th>duration</th>\n",
              "      <th>category</th>\n",
              "    </tr>\n",
              "  </thead>\n",
              "  <tbody>\n",
              "    <tr>\n",
              "      <th>0</th>\n",
              "      <td>VID_18655</td>\n",
              "      <td>40</td>\n",
              "      <td>1031602</td>\n",
              "      <td>8523</td>\n",
              "      <td>363</td>\n",
              "      <td>1095</td>\n",
              "      <td>2016-09-14</td>\n",
              "      <td>PT7M37S</td>\n",
              "      <td>F</td>\n",
              "    </tr>\n",
              "    <tr>\n",
              "      <th>1</th>\n",
              "      <td>VID_14135</td>\n",
              "      <td>2</td>\n",
              "      <td>1707</td>\n",
              "      <td>56</td>\n",
              "      <td>2</td>\n",
              "      <td>6</td>\n",
              "      <td>2016-10-01</td>\n",
              "      <td>PT9M30S</td>\n",
              "      <td>D</td>\n",
              "    </tr>\n",
              "    <tr>\n",
              "      <th>2</th>\n",
              "      <td>VID_2187</td>\n",
              "      <td>1</td>\n",
              "      <td>2023</td>\n",
              "      <td>25</td>\n",
              "      <td>0</td>\n",
              "      <td>2</td>\n",
              "      <td>2016-07-02</td>\n",
              "      <td>PT2M16S</td>\n",
              "      <td>C</td>\n",
              "    </tr>\n",
              "    <tr>\n",
              "      <th>3</th>\n",
              "      <td>VID_23096</td>\n",
              "      <td>6</td>\n",
              "      <td>620860</td>\n",
              "      <td>777</td>\n",
              "      <td>161</td>\n",
              "      <td>153</td>\n",
              "      <td>2016-07-27</td>\n",
              "      <td>PT4M22S</td>\n",
              "      <td>H</td>\n",
              "    </tr>\n",
              "    <tr>\n",
              "      <th>4</th>\n",
              "      <td>VID_10175</td>\n",
              "      <td>1</td>\n",
              "      <td>666</td>\n",
              "      <td>1</td>\n",
              "      <td>0</td>\n",
              "      <td>0</td>\n",
              "      <td>2016-06-29</td>\n",
              "      <td>PT31S</td>\n",
              "      <td>D</td>\n",
              "    </tr>\n",
              "  </tbody>\n",
              "</table>\n",
              "</div>"
            ],
            "text/plain": [
              "       vidid  adview    views likes  ... comment   published duration category\n",
              "0  VID_18655      40  1031602  8523  ...    1095  2016-09-14  PT7M37S        F\n",
              "1  VID_14135       2     1707    56  ...       6  2016-10-01  PT9M30S        D\n",
              "2   VID_2187       1     2023    25  ...       2  2016-07-02  PT2M16S        C\n",
              "3  VID_23096       6   620860   777  ...     153  2016-07-27  PT4M22S        H\n",
              "4  VID_10175       1      666     1  ...       0  2016-06-29    PT31S        D\n",
              "\n",
              "[5 rows x 9 columns]"
            ]
          },
          "metadata": {
            "tags": []
          },
          "execution_count": 2
        }
      ]
    },
    {
      "cell_type": "code",
      "metadata": {
        "colab": {
          "base_uri": "https://localhost:8080/"
        },
        "id": "Jh60WUhrZYbp",
        "outputId": "32ffe01a-eb2f-4dc3-998b-21d482ba611d"
      },
      "source": [
        "data_train.shape"
      ],
      "execution_count": 3,
      "outputs": [
        {
          "output_type": "execute_result",
          "data": {
            "text/plain": [
              "(14999, 9)"
            ]
          },
          "metadata": {
            "tags": []
          },
          "execution_count": 3
        }
      ]
    },
    {
      "cell_type": "code",
      "metadata": {
        "colab": {
          "base_uri": "https://localhost:8080/",
          "height": 524
        },
        "id": "aR55QVlaZO-M",
        "outputId": "b66e14d7-88b3-43de-c4c8-432fc43464f7"
      },
      "source": [
        "# Visualization\r\n",
        "# Individual Plots\r\n",
        "plt.hist(data_train[\"category\"])\r\n",
        "plt.show()\r\n",
        "plt.plot(data_train[\"adview\"])\r\n",
        "plt.show()"
      ],
      "execution_count": 4,
      "outputs": [
        {
          "output_type": "display_data",
          "data": {
            "image/png": "[encoded data removed]",
            "text/plain": [
              "<Figure size 432x288 with 1 Axes>"
            ]
          },
          "metadata": {
            "tags": [],
            "needs_background": "light"
          }
        },
        {
          "output_type": "display_data",
          "data": {
            "image/png": "[encoded data removed]",
            "text/plain": [
              "<Figure size 432x288 with 1 Axes>"
            ]
          },
          "metadata": {
            "tags": [],
            "needs_background": "light"
          }
        }
      ]
    },
    {
      "cell_type": "code",
      "metadata": {
        "id": "xFYXljk6ZegM"
      },
      "source": [
        "# Remove videos with adview greater than 2000000 as outlier\r\n",
        "data_train = data_train[data_train[\"adview\"] <2000000]"
      ],
      "execution_count": 5,
      "outputs": []
    },
    {
      "cell_type": "code",
      "metadata": {
        "colab": {
          "base_uri": "https://localhost:8080/",
          "height": 487
        },
        "id": "ODtt9yh056SB",
        "outputId": "afed0a6f-efda-4438-cbfa-2d88d64b30dc"
      },
      "source": [
        "# Heatmap\r\n",
        "import seaborn as sns\r\n",
        "f, ax = plt.subplots(figsize=(10, 8))\r\n",
        "corr = data_train.corr()\r\n",
        "sns.heatmap(corr, mask=np.zeros_like(corr, dtype=np.bool), cmap=sns.diverging_palette(220, 10, as_cmap=True),\r\n",
        "square=True, ax=ax,annot=True)\r\n",
        "plt.show()\r\n"
      ],
      "execution_count": 31,
      "outputs": [
        {
          "output_type": "display_data",
          "data": {
            "image/png": "[encoded data removed]",
            "text/plain": [
              "<Figure size 720x576 with 2 Axes>"
            ]
          },
          "metadata": {
            "tags": [],
            "needs_background": "light"
          }
        }
      ]
    },
    {
      "cell_type": "code",
      "metadata": {
        "id": "DRMdohM0avyT"
      },
      "source": [
        "# Removing character \"F\" present in data\r\n",
        "data_train=data_train[data_train.views!='F']\r\n",
        "data_train=data_train[data_train.likes!='F']\r\n",
        "data_train=data_train[data_train.dislikes!='F']\r\n",
        "data_train=data_train[data_train.comment!='F']"
      ],
      "execution_count": 7,
      "outputs": []
    },
    {
      "cell_type": "code",
      "metadata": {
        "colab": {
          "base_uri": "https://localhost:8080/",
          "height": 195
        },
        "id": "j7mU1ImDay07",
        "outputId": "cc36259d-c7dc-4d79-81c8-dc38946acc1d"
      },
      "source": [
        "data_train.head()"
      ],
      "execution_count": 8,
      "outputs": [
        {
          "output_type": "execute_result",
          "data": {
            "text/html": [
              "<div>\n",
              "<style scoped>\n",
              "    .dataframe tbody tr th:only-of-type {\n",
              "        vertical-align: middle;\n",
              "    }\n",
              "\n",
              "    .dataframe tbody tr th {\n",
              "        vertical-align: top;\n",
              "    }\n",
              "\n",
              "    .dataframe thead th {\n",
              "        text-align: right;\n",
              "    }\n",
              "</style>\n",
              "<table border=\"1\" class=\"dataframe\">\n",
              "  <thead>\n",
              "    <tr style=\"text-align: right;\">\n",
              "      <th></th>\n",
              "      <th>vidid</th>\n",
              "      <th>adview</th>\n",
              "      <th>views</th>\n",
              "      <th>likes</th>\n",
              "      <th>dislikes</th>\n",
              "      <th>comment</th>\n",
              "      <th>published</th>\n",
              "      <th>duration</th>\n",
              "      <th>category</th>\n",
              "    </tr>\n",
              "  </thead>\n",
              "  <tbody>\n",
              "    <tr>\n",
              "      <th>0</th>\n",
              "      <td>VID_18655</td>\n",
              "      <td>40</td>\n",
              "      <td>1031602</td>\n",
              "      <td>8523</td>\n",
              "      <td>363</td>\n",
              "      <td>1095</td>\n",
              "      <td>2016-09-14</td>\n",
              "      <td>PT7M37S</td>\n",
              "      <td>F</td>\n",
              "    </tr>\n",
              "    <tr>\n",
              "      <th>1</th>\n",
              "      <td>VID_14135</td>\n",
              "      <td>2</td>\n",
              "      <td>1707</td>\n",
              "      <td>56</td>\n",
              "      <td>2</td>\n",
              "      <td>6</td>\n",
              "      <td>2016-10-01</td>\n",
              "      <td>PT9M30S</td>\n",
              "      <td>D</td>\n",
              "    </tr>\n",
              "    <tr>\n",
              "      <th>2</th>\n",
              "      <td>VID_2187</td>\n",
              "      <td>1</td>\n",
              "      <td>2023</td>\n",
              "      <td>25</td>\n",
              "      <td>0</td>\n",
              "      <td>2</td>\n",
              "      <td>2016-07-02</td>\n",
              "      <td>PT2M16S</td>\n",
              "      <td>C</td>\n",
              "    </tr>\n",
              "    <tr>\n",
              "      <th>3</th>\n",
              "      <td>VID_23096</td>\n",
              "      <td>6</td>\n",
              "      <td>620860</td>\n",
              "      <td>777</td>\n",
              "      <td>161</td>\n",
              "      <td>153</td>\n",
              "      <td>2016-07-27</td>\n",
              "      <td>PT4M22S</td>\n",
              "      <td>H</td>\n",
              "    </tr>\n",
              "    <tr>\n",
              "      <th>4</th>\n",
              "      <td>VID_10175</td>\n",
              "      <td>1</td>\n",
              "      <td>666</td>\n",
              "      <td>1</td>\n",
              "      <td>0</td>\n",
              "      <td>0</td>\n",
              "      <td>2016-06-29</td>\n",
              "      <td>PT31S</td>\n",
              "      <td>D</td>\n",
              "    </tr>\n",
              "  </tbody>\n",
              "</table>\n",
              "</div>"
            ],
            "text/plain": [
              "       vidid  adview    views likes  ... comment   published duration category\n",
              "0  VID_18655      40  1031602  8523  ...    1095  2016-09-14  PT7M37S        F\n",
              "1  VID_14135       2     1707    56  ...       6  2016-10-01  PT9M30S        D\n",
              "2   VID_2187       1     2023    25  ...       2  2016-07-02  PT2M16S        C\n",
              "3  VID_23096       6   620860   777  ...     153  2016-07-27  PT4M22S        H\n",
              "4  VID_10175       1      666     1  ...       0  2016-06-29    PT31S        D\n",
              "\n",
              "[5 rows x 9 columns]"
            ]
          },
          "metadata": {
            "tags": []
          },
          "execution_count": 8
        }
      ]
    },
    {
      "cell_type": "code",
      "metadata": {
        "colab": {
          "base_uri": "https://localhost:8080/",
          "height": 195
        },
        "id": "TcU7RJcSa4fN",
        "outputId": "a0d94e03-3cad-428f-d025-68c523fa3f96"
      },
      "source": [
        "# Assigning each category a number for Category feature\r\n",
        "category={'A': 1,'B':2,'C':3,'D':4,'E':5,'F':6,'G':7,'H':8}\r\n",
        "data_train[\"category\"]=data_train[\"category\"].map(category)\r\n",
        "data_train.head()"
      ],
      "execution_count": 9,
      "outputs": [
        {
          "output_type": "execute_result",
          "data": {
            "text/html": [
              "<div>\n",
              "<style scoped>\n",
              "    .dataframe tbody tr th:only-of-type {\n",
              "        vertical-align: middle;\n",
              "    }\n",
              "\n",
              "    .dataframe tbody tr th {\n",
              "        vertical-align: top;\n",
              "    }\n",
              "\n",
              "    .dataframe thead th {\n",
              "        text-align: right;\n",
              "    }\n",
              "</style>\n",
              "<table border=\"1\" class=\"dataframe\">\n",
              "  <thead>\n",
              "    <tr style=\"text-align: right;\">\n",
              "      <th></th>\n",
              "      <th>vidid</th>\n",
              "      <th>adview</th>\n",
              "      <th>views</th>\n",
              "      <th>likes</th>\n",
              "      <th>dislikes</th>\n",
              "      <th>comment</th>\n",
              "      <th>published</th>\n",
              "      <th>duration</th>\n",
              "      <th>category</th>\n",
              "    </tr>\n",
              "  </thead>\n",
              "  <tbody>\n",
              "    <tr>\n",
              "      <th>0</th>\n",
              "      <td>VID_18655</td>\n",
              "      <td>40</td>\n",
              "      <td>1031602</td>\n",
              "      <td>8523</td>\n",
              "      <td>363</td>\n",
              "      <td>1095</td>\n",
              "      <td>2016-09-14</td>\n",
              "      <td>PT7M37S</td>\n",
              "      <td>6</td>\n",
              "    </tr>\n",
              "    <tr>\n",
              "      <th>1</th>\n",
              "      <td>VID_14135</td>\n",
              "      <td>2</td>\n",
              "      <td>1707</td>\n",
              "      <td>56</td>\n",
              "      <td>2</td>\n",
              "      <td>6</td>\n",
              "      <td>2016-10-01</td>\n",
              "      <td>PT9M30S</td>\n",
              "      <td>4</td>\n",
              "    </tr>\n",
              "    <tr>\n",
              "      <th>2</th>\n",
              "      <td>VID_2187</td>\n",
              "      <td>1</td>\n",
              "      <td>2023</td>\n",
              "      <td>25</td>\n",
              "      <td>0</td>\n",
              "      <td>2</td>\n",
              "      <td>2016-07-02</td>\n",
              "      <td>PT2M16S</td>\n",
              "      <td>3</td>\n",
              "    </tr>\n",
              "    <tr>\n",
              "      <th>3</th>\n",
              "      <td>VID_23096</td>\n",
              "      <td>6</td>\n",
              "      <td>620860</td>\n",
              "      <td>777</td>\n",
              "      <td>161</td>\n",
              "      <td>153</td>\n",
              "      <td>2016-07-27</td>\n",
              "      <td>PT4M22S</td>\n",
              "      <td>8</td>\n",
              "    </tr>\n",
              "    <tr>\n",
              "      <th>4</th>\n",
              "      <td>VID_10175</td>\n",
              "      <td>1</td>\n",
              "      <td>666</td>\n",
              "      <td>1</td>\n",
              "      <td>0</td>\n",
              "      <td>0</td>\n",
              "      <td>2016-06-29</td>\n",
              "      <td>PT31S</td>\n",
              "      <td>4</td>\n",
              "    </tr>\n",
              "  </tbody>\n",
              "</table>\n",
              "</div>"
            ],
            "text/plain": [
              "       vidid  adview    views likes  ... comment   published duration category\n",
              "0  VID_18655      40  1031602  8523  ...    1095  2016-09-14  PT7M37S        6\n",
              "1  VID_14135       2     1707    56  ...       6  2016-10-01  PT9M30S        4\n",
              "2   VID_2187       1     2023    25  ...       2  2016-07-02  PT2M16S        3\n",
              "3  VID_23096       6   620860   777  ...     153  2016-07-27  PT4M22S        8\n",
              "4  VID_10175       1      666     1  ...       0  2016-06-29    PT31S        4\n",
              "\n",
              "[5 rows x 9 columns]"
            ]
          },
          "metadata": {
            "tags": []
          },
          "execution_count": 9
        }
      ]
    },
    {
      "cell_type": "code",
      "metadata": {
        "colab": {
          "base_uri": "https://localhost:8080/",
          "height": 195
        },
        "id": "yTPXubCWhUek",
        "outputId": "8e6a5ced-ff25-4f54-86cb-05b99c501575"
      },
      "source": [
        "# Convert values to integers for views, likes, comments, dislikes and adview\r\n",
        "data_train[\"views\"] = pd.to_numeric(data_train[\"views\"])\r\n",
        "data_train[\"comment\"] = pd.to_numeric(data_train[\"comment\"])\r\n",
        "data_train[\"likes\"] = pd.to_numeric(data_train[\"likes\"])\r\n",
        "data_train[\"dislikes\"] = pd.to_numeric(data_train[\"dislikes\"])\r\n",
        "data_train[\"adview\"]=pd.to_numeric(data_train[\"adview\"])\r\n",
        "column_vidid=data_train['vidid']\r\n",
        "\r\n",
        "# Endoding features like Category, Duration, Vidid\r\n",
        "from sklearn.preprocessing import LabelEncoder\r\n",
        "data_train['duration']=LabelEncoder().fit_transform(data_train['duration'])\r\n",
        "data_train['vidid']=LabelEncoder().fit_transform(data_train['vidid'])\r\n",
        "data_train['published']=LabelEncoder().fit_transform(data_train['published'])\r\n",
        "data_train.head()\r\n",
        "\r\n",
        "# Convert Time_in_sec for duration\r\n",
        "import datetime\r\n",
        "import time\r\n",
        "def checki(x):\r\n",
        "  y = x[2:]\r\n",
        "  h = ''\r\n",
        "  m = ''\r\n",
        "  s = ''\r\n",
        "  mm = ''\r\n",
        "  P = ['H','M','S']\r\n",
        "  for i in y:\r\n",
        "    if i not in P:\r\n",
        "      mm+=i\r\n",
        "    else:\r\n",
        "      if(i==\"H\"):\r\n",
        "        h = mm\r\n",
        "        mm = ''\r\n",
        "      elif(i == \"M\"):\r\n",
        "        m = mm\r\n",
        "        mm = ''\r\n",
        "      else:\r\n",
        "        s = mm\r\n",
        "        mm = ''\r\n",
        "  if(h==''):\r\n",
        "    h = '00'\r\n",
        "  if(m == ''):\r\n",
        "    m = '00'\r\n",
        "  if(s==''):\r\n",
        "    s='00'\r\n",
        "  bp = h+':'+m+':'+s\r\n",
        "  return bp\r\n",
        "\r\n",
        "train=pd.read_csv(\"train.csv\")\r\n",
        "mp = pd.read_csv(path)[\"duration\"]\r\n",
        "time = mp.apply(checki)\r\n",
        "\r\n",
        "def func_sec(time_string):\r\n",
        "  h, m, s = time_string.split(':')\r\n",
        "  return int(h) * 3600 + int(m) * 60 + int(s)\r\n",
        "\r\n",
        "time1=time.apply(func_sec)\r\n",
        "\r\n",
        "data_train[\"duration\"]=time1\r\n",
        "data_train.head()"
      ],
      "execution_count": 10,
      "outputs": [
        {
          "output_type": "execute_result",
          "data": {
            "text/html": [
              "<div>\n",
              "<style scoped>\n",
              "    .dataframe tbody tr th:only-of-type {\n",
              "        vertical-align: middle;\n",
              "    }\n",
              "\n",
              "    .dataframe tbody tr th {\n",
              "        vertical-align: top;\n",
              "    }\n",
              "\n",
              "    .dataframe thead th {\n",
              "        text-align: right;\n",
              "    }\n",
              "</style>\n",
              "<table border=\"1\" class=\"dataframe\">\n",
              "  <thead>\n",
              "    <tr style=\"text-align: right;\">\n",
              "      <th></th>\n",
              "      <th>vidid</th>\n",
              "      <th>adview</th>\n",
              "      <th>views</th>\n",
              "      <th>likes</th>\n",
              "      <th>dislikes</th>\n",
              "      <th>comment</th>\n",
              "      <th>published</th>\n",
              "      <th>duration</th>\n",
              "      <th>category</th>\n",
              "    </tr>\n",
              "  </thead>\n",
              "  <tbody>\n",
              "    <tr>\n",
              "      <th>0</th>\n",
              "      <td>5912</td>\n",
              "      <td>40</td>\n",
              "      <td>1031602</td>\n",
              "      <td>8523</td>\n",
              "      <td>363</td>\n",
              "      <td>1095</td>\n",
              "      <td>2168</td>\n",
              "      <td>457</td>\n",
              "      <td>6</td>\n",
              "    </tr>\n",
              "    <tr>\n",
              "      <th>1</th>\n",
              "      <td>2741</td>\n",
              "      <td>2</td>\n",
              "      <td>1707</td>\n",
              "      <td>56</td>\n",
              "      <td>2</td>\n",
              "      <td>6</td>\n",
              "      <td>2185</td>\n",
              "      <td>570</td>\n",
              "      <td>4</td>\n",
              "    </tr>\n",
              "    <tr>\n",
              "      <th>2</th>\n",
              "      <td>8138</td>\n",
              "      <td>1</td>\n",
              "      <td>2023</td>\n",
              "      <td>25</td>\n",
              "      <td>0</td>\n",
              "      <td>2</td>\n",
              "      <td>2094</td>\n",
              "      <td>136</td>\n",
              "      <td>3</td>\n",
              "    </tr>\n",
              "    <tr>\n",
              "      <th>3</th>\n",
              "      <td>9004</td>\n",
              "      <td>6</td>\n",
              "      <td>620860</td>\n",
              "      <td>777</td>\n",
              "      <td>161</td>\n",
              "      <td>153</td>\n",
              "      <td>2119</td>\n",
              "      <td>262</td>\n",
              "      <td>8</td>\n",
              "    </tr>\n",
              "    <tr>\n",
              "      <th>4</th>\n",
              "      <td>122</td>\n",
              "      <td>1</td>\n",
              "      <td>666</td>\n",
              "      <td>1</td>\n",
              "      <td>0</td>\n",
              "      <td>0</td>\n",
              "      <td>2091</td>\n",
              "      <td>31</td>\n",
              "      <td>4</td>\n",
              "    </tr>\n",
              "  </tbody>\n",
              "</table>\n",
              "</div>"
            ],
            "text/plain": [
              "   vidid  adview    views  likes  ...  comment  published  duration  category\n",
              "0   5912      40  1031602   8523  ...     1095       2168       457         6\n",
              "1   2741       2     1707     56  ...        6       2185       570         4\n",
              "2   8138       1     2023     25  ...        2       2094       136         3\n",
              "3   9004       6   620860    777  ...      153       2119       262         8\n",
              "4    122       1      666      1  ...        0       2091        31         4\n",
              "\n",
              "[5 rows x 9 columns]"
            ]
          },
          "metadata": {
            "tags": []
          },
          "execution_count": 10
        }
      ]
    },
    {
      "cell_type": "code",
      "metadata": {
        "colab": {
          "base_uri": "https://localhost:8080/"
        },
        "id": "qoRQ2hlCiPEL",
        "outputId": "6a0b989a-cefe-4087-bfff-659031456df2"
      },
      "source": [
        "# Split Data\r\n",
        "Y_train = pd.DataFrame(data = data_train.iloc[:, 1].values, columns = ['target'])\r\n",
        "data_train=data_train.drop([\"adview\"],axis=1)\r\n",
        "data_train=data_train.drop([\"vidid\"],axis=1)\r\n",
        "data_train.head()\r\n",
        "\r\n",
        "from sklearn.model_selection import train_test_split\r\n",
        "X_train, X_test, y_train, y_test = train_test_split(data_train, Y_train, test_size=0.2, random_state=42)\r\n",
        "\r\n",
        "X_train.shape\r\n",
        "\r\n",
        "# Normalise Data\r\n",
        "from sklearn.preprocessing import MinMaxScaler\r\n",
        "scaler = MinMaxScaler()\r\n",
        "X_train=scaler.fit_transform(X_train)\r\n",
        "X_test=scaler.fit_transform(X_test)\r\n",
        "\r\n",
        "X_train.mean()"
      ],
      "execution_count": 11,
      "outputs": [
        {
          "output_type": "execute_result",
          "data": {
            "text/plain": [
              "0.1739096800320488"
            ]
          },
          "metadata": {
            "tags": []
          },
          "execution_count": 11
        }
      ]
    },
    {
      "cell_type": "code",
      "metadata": {
        "colab": {
          "base_uri": "https://localhost:8080/"
        },
        "id": "QoJ9C0mRiVZ3",
        "outputId": "1bb11a03-55c0-4809-86be-8acc22ec7d77"
      },
      "source": [
        "# Evaluation Metrics\r\n",
        "from sklearn import metrics\r\n",
        "def print_error(X_test, y_test, model_name):\r\n",
        "  prediction = model_name.predict(X_test)\r\n",
        "  print('Mean Absolute Error:', metrics.mean_absolute_error(y_test, prediction))\r\n",
        "  print('Mean Squared Error:', metrics.mean_squared_error(y_test, prediction))\r\n",
        "  print('Root Mean Squared Error:', np.sqrt(metrics.mean_squared_error(y_test, prediction)))\r\n",
        "\r\n",
        "# Linear Regression\r\n",
        "from sklearn import linear_model\r\n",
        "linear_regression = linear_model.LinearRegression()\r\n",
        "linear_regression.fit(X_train, y_train)\r\n",
        "print_error(X_test,y_test, linear_regression)\r\n",
        "\r\n",
        "# Support Vector Regressor\r\n",
        "from sklearn.svm import SVR\r\n",
        "supportvector_regressor = SVR()\r\n",
        "supportvector_regressor.fit(X_train,y_train)\r\n",
        "print_error(X_test,y_test, linear_regression)"
      ],
      "execution_count": 12,
      "outputs": [
        {
          "output_type": "stream",
          "text": [
            "Mean Absolute Error: 3707.378005824532\n",
            "Mean Squared Error: 835663131.1210337\n",
            "Root Mean Squared Error: 28907.83857573986\n"
          ],
          "name": "stdout"
        },
        {
          "output_type": "stream",
          "text": [
            "/usr/local/lib/python3.6/dist-packages/sklearn/utils/validation.py:760: DataConversionWarning: A column-vector y was passed when a 1d array was expected. Please change the shape of y to (n_samples, ), for example using ravel().\n",
            "  y = column_or_1d(y, warn=True)\n"
          ],
          "name": "stderr"
        },
        {
          "output_type": "stream",
          "text": [
            "Mean Absolute Error: 3707.378005824532\n",
            "Mean Squared Error: 835663131.1210337\n",
            "Root Mean Squared Error: 28907.83857573986\n"
          ],
          "name": "stdout"
        }
      ]
    },
    {
      "cell_type": "code",
      "metadata": {
        "colab": {
          "base_uri": "https://localhost:8080/"
        },
        "id": "xi74gXPsihaV",
        "outputId": "bf4e0300-4a8f-4d00-a1fe-8d308ff4bd92"
      },
      "source": [
        "# Decision Tree Regressor\r\n",
        "from sklearn.tree import DecisionTreeRegressor\r\n",
        "decision_tree = DecisionTreeRegressor()\r\n",
        "decision_tree.fit(X_train, y_train)\r\n",
        "print_error(X_test,y_test, decision_tree)\r\n",
        "\r\n",
        "# Random Forest Regressor\r\n",
        "from sklearn.ensemble import RandomForestRegressor\r\n",
        "n_estimators = 200\r\n",
        "max_depth = 25\r\n",
        "min_samples_split=15\r\n",
        "min_samples_leaf=2\r\n",
        "random_forest = RandomForestRegressor(n_estimators = n_estimators, max_depth = max_depth, min_samples_split=min_samples_split)\r\n",
        "random_forest.fit(X_train,y_train)\r\n",
        "print_error(X_test,y_test, random_forest)"
      ],
      "execution_count": 13,
      "outputs": [
        {
          "output_type": "stream",
          "text": [
            "Mean Absolute Error: 2881.942281420765\n",
            "Mean Squared Error: 1200253501.0249317\n",
            "Root Mean Squared Error: 34644.67493028231\n"
          ],
          "name": "stdout"
        },
        {
          "output_type": "stream",
          "text": [
            "/usr/local/lib/python3.6/dist-packages/ipykernel_launcher.py:14: DataConversionWarning: A column-vector y was passed when a 1d array was expected. Please change the shape of y to (n_samples,), for example using ravel().\n",
            "  \n"
          ],
          "name": "stderr"
        },
        {
          "output_type": "stream",
          "text": [
            "Mean Absolute Error: 3287.306282933801\n",
            "Mean Squared Error: 612645714.2800009\n",
            "Root Mean Squared Error: 24751.681039476913\n"
          ],
          "name": "stdout"
        }
      ]
    },
    {
      "cell_type": "code",
      "metadata": {
        "colab": {
          "base_uri": "https://localhost:8080/"
        },
        "id": "pxoWE83yjKuI",
        "outputId": "6b167c57-bb95-41c6-d458-ca82f9326a77"
      },
      "source": [
        "# Artificial Neural Network\r\n",
        "import keras\r\n",
        "from keras.layers import Dense\r\n",
        "ann = keras.models.Sequential([\r\n",
        "                                Dense(6, activation=\"relu\",\r\n",
        "                                input_shape=X_train.shape[1:]),\r\n",
        "                                Dense(6,activation=\"relu\"),\r\n",
        "                                Dense(1)\r\n",
        "                                ])\r\n",
        "\r\n",
        "optimizer=keras.optimizers.Adam()\r\n",
        "loss=keras.losses.mean_squared_error\r\n",
        "ann.compile(optimizer=optimizer,loss=loss,metrics=[\"mean_squared_error\"])\r\n",
        "\r\n",
        "history=ann.fit(X_train,y_train,epochs=100)\r\n",
        "\r\n",
        "ann.summary()\r\n",
        "\r\n",
        "print_error(X_test,y_test,ann)"
      ],
      "execution_count": 14,
      "outputs": [
        {
          "output_type": "stream",
          "text": [
            "Epoch 1/100\n",
            "366/366 [==============================] - 1s 1ms/step - loss: 1460605039.5555 - mean_squared_error: 1460605039.5555\n",
            "Epoch 2/100\n",
            "366/366 [==============================] - 0s 1ms/step - loss: 835850050.6294 - mean_squared_error: 835850050.6294\n",
            "Epoch 3/100\n",
            "366/366 [==============================] - 0s 1ms/step - loss: 652082777.9837 - mean_squared_error: 652082777.9837\n",
            "Epoch 4/100\n",
            "366/366 [==============================] - 0s 1ms/step - loss: 356579735.7527 - mean_squared_error: 356579735.7527\n",
            "Epoch 5/100\n",
            "366/366 [==============================] - 0s 1ms/step - loss: 508746306.1304 - mean_squared_error: 508746306.1304\n",
            "Epoch 6/100\n",
            "366/366 [==============================] - 0s 946us/step - loss: 353001179.8001 - mean_squared_error: 353001179.8001\n",
            "Epoch 7/100\n",
            "366/366 [==============================] - 0s 937us/step - loss: 1090564028.9414 - mean_squared_error: 1090564028.9414\n",
            "Epoch 8/100\n",
            "366/366 [==============================] - 0s 931us/step - loss: 890400791.0762 - mean_squared_error: 890400791.0762\n",
            "Epoch 9/100\n",
            "366/366 [==============================] - 0s 953us/step - loss: 1292254084.3379 - mean_squared_error: 1292254084.3379\n",
            "Epoch 10/100\n",
            "366/366 [==============================] - 0s 972us/step - loss: 901213933.3185 - mean_squared_error: 901213933.3185\n",
            "Epoch 11/100\n",
            "366/366 [==============================] - 0s 1ms/step - loss: 908548840.6676 - mean_squared_error: 908548840.6676\n",
            "Epoch 12/100\n",
            "366/366 [==============================] - 0s 1ms/step - loss: 466781972.9155 - mean_squared_error: 466781972.9155\n",
            "Epoch 13/100\n",
            "366/366 [==============================] - 0s 973us/step - loss: 706570693.7939 - mean_squared_error: 706570693.7939\n",
            "Epoch 14/100\n",
            "366/366 [==============================] - 0s 1ms/step - loss: 504222550.4387 - mean_squared_error: 504222550.4387\n",
            "Epoch 15/100\n",
            "366/366 [==============================] - 0s 928us/step - loss: 706137562.4968 - mean_squared_error: 706137562.4968\n",
            "Epoch 16/100\n",
            "366/366 [==============================] - 0s 1ms/step - loss: 609411887.3995 - mean_squared_error: 609411887.3995\n",
            "Epoch 17/100\n",
            "366/366 [==============================] - 0s 952us/step - loss: 378216780.9687 - mean_squared_error: 378216780.9687\n",
            "Epoch 18/100\n",
            "366/366 [==============================] - 0s 1ms/step - loss: 1651339645.2425 - mean_squared_error: 1651339645.2425\n",
            "Epoch 19/100\n",
            "366/366 [==============================] - 0s 1ms/step - loss: 565605821.0043 - mean_squared_error: 565605821.0043\n",
            "Epoch 20/100\n",
            "366/366 [==============================] - 0s 1ms/step - loss: 1409569655.0599 - mean_squared_error: 1409569655.0599\n",
            "Epoch 21/100\n",
            "366/366 [==============================] - 0s 1ms/step - loss: 904555647.1029 - mean_squared_error: 904555647.1029\n",
            "Epoch 22/100\n",
            "366/366 [==============================] - 0s 1ms/step - loss: 1046805510.8011 - mean_squared_error: 1046805510.8011\n",
            "Epoch 23/100\n",
            "366/366 [==============================] - 0s 1ms/step - loss: 1072898878.5443 - mean_squared_error: 1072898878.5443\n",
            "Epoch 24/100\n",
            "366/366 [==============================] - 0s 1ms/step - loss: 806679596.5186 - mean_squared_error: 806679596.5186\n",
            "Epoch 25/100\n",
            "366/366 [==============================] - 0s 1ms/step - loss: 847382207.1519 - mean_squared_error: 847382207.1519\n",
            "Epoch 26/100\n",
            "366/366 [==============================] - 0s 1ms/step - loss: 738223954.9646 - mean_squared_error: 738223954.9646\n",
            "Epoch 27/100\n",
            "366/366 [==============================] - 0s 921us/step - loss: 812650158.3852 - mean_squared_error: 812650158.3852\n",
            "Epoch 28/100\n",
            "366/366 [==============================] - 0s 1ms/step - loss: 488211690.7466 - mean_squared_error: 488211690.7466\n",
            "Epoch 29/100\n",
            "366/366 [==============================] - 0s 959us/step - loss: 1173729588.6196 - mean_squared_error: 1173729588.6196\n",
            "Epoch 30/100\n",
            "366/366 [==============================] - 0s 992us/step - loss: 1611139948.6431 - mean_squared_error: 1611139948.6431\n",
            "Epoch 31/100\n",
            "366/366 [==============================] - 0s 996us/step - loss: 598515927.3869 - mean_squared_error: 598515927.3869\n",
            "Epoch 32/100\n",
            "366/366 [==============================] - 0s 954us/step - loss: 363212669.3474 - mean_squared_error: 363212669.3474\n",
            "Epoch 33/100\n",
            "366/366 [==============================] - 0s 964us/step - loss: 977488116.7738 - mean_squared_error: 977488116.7738\n",
            "Epoch 34/100\n",
            "366/366 [==============================] - 0s 1ms/step - loss: 569122776.1090 - mean_squared_error: 569122776.1090\n",
            "Epoch 35/100\n",
            "366/366 [==============================] - 0s 1ms/step - loss: 737600101.0232 - mean_squared_error: 737600101.0232\n",
            "Epoch 36/100\n",
            "366/366 [==============================] - 0s 987us/step - loss: 468048275.3678 - mean_squared_error: 468048275.3678\n",
            "Epoch 37/100\n",
            "366/366 [==============================] - 0s 951us/step - loss: 1258881131.0354 - mean_squared_error: 1258881131.0354\n",
            "Epoch 38/100\n",
            "366/366 [==============================] - 0s 1ms/step - loss: 796349626.1431 - mean_squared_error: 796349626.1431\n",
            "Epoch 39/100\n",
            "366/366 [==============================] - 0s 960us/step - loss: 1812555960.3270 - mean_squared_error: 1812555960.3270\n",
            "Epoch 40/100\n",
            "366/366 [==============================] - 0s 996us/step - loss: 386320909.5490 - mean_squared_error: 386320909.5490\n",
            "Epoch 41/100\n",
            "366/366 [==============================] - 0s 956us/step - loss: 746808678.7943 - mean_squared_error: 746808678.7943\n",
            "Epoch 42/100\n",
            "366/366 [==============================] - 0s 985us/step - loss: 932800315.6662 - mean_squared_error: 932800315.6662\n",
            "Epoch 43/100\n",
            "366/366 [==============================] - 0s 986us/step - loss: 688097976.8719 - mean_squared_error: 688097976.8719\n",
            "Epoch 44/100\n",
            "366/366 [==============================] - 0s 1ms/step - loss: 617887684.4046 - mean_squared_error: 617887684.4046\n",
            "Epoch 45/100\n",
            "366/366 [==============================] - 0s 1ms/step - loss: 982219261.9414 - mean_squared_error: 982219261.9414\n",
            "Epoch 46/100\n",
            "366/366 [==============================] - 0s 955us/step - loss: 1165807201.3161 - mean_squared_error: 1165807201.3161\n",
            "Epoch 47/100\n",
            "366/366 [==============================] - 0s 1ms/step - loss: 1113356810.1989 - mean_squared_error: 1113356810.1989\n",
            "Epoch 48/100\n",
            "366/366 [==============================] - 0s 966us/step - loss: 797795102.8229 - mean_squared_error: 797795102.8229\n",
            "Epoch 49/100\n",
            "366/366 [==============================] - 0s 1ms/step - loss: 1131739096.4292 - mean_squared_error: 1131739096.4292\n",
            "Epoch 50/100\n",
            "366/366 [==============================] - 0s 1ms/step - loss: 811985718.1907 - mean_squared_error: 811985718.1907\n",
            "Epoch 51/100\n",
            "366/366 [==============================] - 0s 1ms/step - loss: 605468188.6485 - mean_squared_error: 605468188.6485\n",
            "Epoch 52/100\n",
            "366/366 [==============================] - 0s 1ms/step - loss: 1249707812.8733 - mean_squared_error: 1249707812.8733\n",
            "Epoch 53/100\n",
            "366/366 [==============================] - 0s 1ms/step - loss: 725363425.9959 - mean_squared_error: 725363425.9959\n",
            "Epoch 54/100\n",
            "366/366 [==============================] - 0s 921us/step - loss: 638884470.8174 - mean_squared_error: 638884470.8174\n",
            "Epoch 55/100\n",
            "366/366 [==============================] - 0s 961us/step - loss: 545977076.8774 - mean_squared_error: 545977076.8774\n",
            "Epoch 56/100\n",
            "366/366 [==============================] - 0s 984us/step - loss: 910450082.7561 - mean_squared_error: 910450082.7561\n",
            "Epoch 57/100\n",
            "366/366 [==============================] - 0s 982us/step - loss: 989222513.1553 - mean_squared_error: 989222513.1553\n",
            "Epoch 58/100\n",
            "366/366 [==============================] - 0s 991us/step - loss: 452498758.7629 - mean_squared_error: 452498758.7629\n",
            "Epoch 59/100\n",
            "366/366 [==============================] - 0s 1ms/step - loss: 804936829.7330 - mean_squared_error: 804936829.7330\n",
            "Epoch 60/100\n",
            "366/366 [==============================] - 0s 1ms/step - loss: 395076323.9435 - mean_squared_error: 395076323.9435\n",
            "Epoch 61/100\n",
            "366/366 [==============================] - 0s 1ms/step - loss: 923249197.3515 - mean_squared_error: 923249197.3515\n",
            "Epoch 62/100\n",
            "366/366 [==============================] - 0s 986us/step - loss: 504851548.4448 - mean_squared_error: 504851548.4448\n",
            "Epoch 63/100\n",
            "366/366 [==============================] - 0s 989us/step - loss: 479592494.8134 - mean_squared_error: 479592494.8134\n",
            "Epoch 64/100\n",
            "366/366 [==============================] - 0s 965us/step - loss: 704535451.0674 - mean_squared_error: 704535451.0674\n",
            "Epoch 65/100\n",
            "366/366 [==============================] - 0s 1ms/step - loss: 1044386611.5000 - mean_squared_error: 1044386611.5000\n",
            "Epoch 66/100\n",
            "366/366 [==============================] - 0s 945us/step - loss: 544004539.8685 - mean_squared_error: 544004539.8685\n",
            "Epoch 67/100\n",
            "366/366 [==============================] - 0s 1ms/step - loss: 395188105.1403 - mean_squared_error: 395188105.1403\n",
            "Epoch 68/100\n",
            "366/366 [==============================] - 0s 1ms/step - loss: 534050981.0572 - mean_squared_error: 534050981.0572\n",
            "Epoch 69/100\n",
            "366/366 [==============================] - 0s 1ms/step - loss: 483199330.7411 - mean_squared_error: 483199330.7411\n",
            "Epoch 70/100\n",
            "366/366 [==============================] - 0s 1ms/step - loss: 1139259874.1267 - mean_squared_error: 1139259874.1267\n",
            "Epoch 71/100\n",
            "366/366 [==============================] - 0s 1ms/step - loss: 671393806.7357 - mean_squared_error: 671393806.7357\n",
            "Epoch 72/100\n",
            "366/366 [==============================] - 0s 1ms/step - loss: 565650317.4114 - mean_squared_error: 565650317.4114\n",
            "Epoch 73/100\n",
            "366/366 [==============================] - 0s 1ms/step - loss: 695331619.5967 - mean_squared_error: 695331619.5967\n",
            "Epoch 74/100\n",
            "366/366 [==============================] - 0s 1ms/step - loss: 617950373.1662 - mean_squared_error: 617950373.1662\n",
            "Epoch 75/100\n",
            "366/366 [==============================] - 0s 1ms/step - loss: 543015322.0129 - mean_squared_error: 543015322.0129\n",
            "Epoch 76/100\n",
            "366/366 [==============================] - 0s 1ms/step - loss: 562785632.9741 - mean_squared_error: 562785632.9741\n",
            "Epoch 77/100\n",
            "366/366 [==============================] - 0s 984us/step - loss: 489405410.3324 - mean_squared_error: 489405410.3324\n",
            "Epoch 78/100\n",
            "366/366 [==============================] - 0s 1ms/step - loss: 1141145029.1948 - mean_squared_error: 1141145029.1948\n",
            "Epoch 79/100\n",
            "366/366 [==============================] - 0s 981us/step - loss: 448873860.3045 - mean_squared_error: 448873860.3045\n",
            "Epoch 80/100\n",
            "366/366 [==============================] - 0s 1ms/step - loss: 551809568.1737 - mean_squared_error: 551809568.1737\n",
            "Epoch 81/100\n",
            "366/366 [==============================] - 0s 1ms/step - loss: 865533840.0899 - mean_squared_error: 865533840.0899\n",
            "Epoch 82/100\n",
            "366/366 [==============================] - 0s 1ms/step - loss: 557034259.4687 - mean_squared_error: 557034259.4687\n",
            "Epoch 83/100\n",
            "366/366 [==============================] - 0s 1ms/step - loss: 586631298.7868 - mean_squared_error: 586631298.7868\n",
            "Epoch 84/100\n",
            "366/366 [==============================] - 0s 1ms/step - loss: 491762905.0525 - mean_squared_error: 491762905.0525\n",
            "Epoch 85/100\n",
            "366/366 [==============================] - 0s 1ms/step - loss: 702715349.9857 - mean_squared_error: 702715349.9857\n",
            "Epoch 86/100\n",
            "366/366 [==============================] - 0s 1ms/step - loss: 708843149.0327 - mean_squared_error: 708843149.0327\n",
            "Epoch 87/100\n",
            "366/366 [==============================] - 0s 1ms/step - loss: 421068681.3283 - mean_squared_error: 421068681.3283\n",
            "Epoch 88/100\n",
            "366/366 [==============================] - 0s 1ms/step - loss: 1548456990.3971 - mean_squared_error: 1548456990.3971\n",
            "Epoch 89/100\n",
            "366/366 [==============================] - 0s 1ms/step - loss: 764566685.4530 - mean_squared_error: 764566685.4530\n",
            "Epoch 90/100\n",
            "366/366 [==============================] - 0s 1ms/step - loss: 234536564.5238 - mean_squared_error: 234536564.5238\n",
            "Epoch 91/100\n",
            "366/366 [==============================] - 0s 1ms/step - loss: 676000595.1717 - mean_squared_error: 676000595.1717\n",
            "Epoch 92/100\n",
            "366/366 [==============================] - 0s 1ms/step - loss: 561079088.6049 - mean_squared_error: 561079088.6049\n",
            "Epoch 93/100\n",
            "366/366 [==============================] - 0s 1ms/step - loss: 1026387713.3597 - mean_squared_error: 1026387713.3597\n",
            "Epoch 94/100\n",
            "366/366 [==============================] - 0s 1ms/step - loss: 1227671829.2752 - mean_squared_error: 1227671829.2752\n",
            "Epoch 95/100\n",
            "366/366 [==============================] - 0s 1ms/step - loss: 724290412.8161 - mean_squared_error: 724290412.8161\n",
            "Epoch 96/100\n",
            "366/366 [==============================] - 0s 1ms/step - loss: 1120691016.2916 - mean_squared_error: 1120691016.2916\n",
            "Epoch 97/100\n",
            "366/366 [==============================] - 0s 1ms/step - loss: 859769490.1771 - mean_squared_error: 859769490.1771\n",
            "Epoch 98/100\n",
            "366/366 [==============================] - 0s 1ms/step - loss: 1146916211.4537 - mean_squared_error: 1146916211.4537\n",
            "Epoch 99/100\n",
            "366/366 [==============================] - 0s 1ms/step - loss: 698116653.8747 - mean_squared_error: 698116653.8747\n",
            "Epoch 100/100\n",
            "366/366 [==============================] - 0s 957us/step - loss: 1597935968.0872 - mean_squared_error: 1597935968.0872\n",
            "Model: \"sequential\"\n",
            "_________________________________________________________________\n",
            "Layer (type)                 Output Shape              Param #   \n",
            "=================================================================\n",
            "dense (Dense)                (None, 6)                 48        \n",
            "_________________________________________________________________\n",
            "dense_1 (Dense)              (None, 6)                 42        \n",
            "_________________________________________________________________\n",
            "dense_2 (Dense)              (None, 1)                 7         \n",
            "=================================================================\n",
            "Total params: 97\n",
            "Trainable params: 97\n",
            "Non-trainable params: 0\n",
            "_________________________________________________________________\n",
            "Mean Absolute Error: 3213.11569803204\n",
            "Mean Squared Error: 829403936.3214768\n",
            "Root Mean Squared Error: 28799.37388766424\n"
          ],
          "name": "stdout"
        }
      ]
    },
    {
      "cell_type": "code",
      "metadata": {
        "id": "opRSRFCDjVIH"
      },
      "source": [
        "#Saving Scikitlearn models\r\n",
        "import joblib\r\n",
        "joblib.dump(decision_tree, \"decisiontree_youtubeadview.pkl\")\r\n",
        "\r\n",
        "# Saving Keras Artificial Neural Network model\r\n",
        "ann.save(\"ann_youtubeadview.h5\")"
      ],
      "execution_count": 15,
      "outputs": []
    },
    {
      "cell_type": "markdown",
      "metadata": {
        "id": "bB2FzXHHs8tp"
      },
      "source": [
        "# **Testing**"
      ]
    },
    {
      "cell_type": "code",
      "metadata": {
        "id": "7na-8gu4kyCn"
      },
      "source": [
        "data_test = pd.read_csv(\"/content/test.csv\")"
      ],
      "execution_count": 16,
      "outputs": []
    },
    {
      "cell_type": "code",
      "metadata": {
        "colab": {
          "base_uri": "https://localhost:8080/",
          "height": 195
        },
        "id": "o117g6BAlTJL",
        "outputId": "9334f1bd-47fa-4986-d947-12114d67415c"
      },
      "source": [
        "data_test.head()"
      ],
      "execution_count": 17,
      "outputs": [
        {
          "output_type": "execute_result",
          "data": {
            "text/html": [
              "<div>\n",
              "<style scoped>\n",
              "    .dataframe tbody tr th:only-of-type {\n",
              "        vertical-align: middle;\n",
              "    }\n",
              "\n",
              "    .dataframe tbody tr th {\n",
              "        vertical-align: top;\n",
              "    }\n",
              "\n",
              "    .dataframe thead th {\n",
              "        text-align: right;\n",
              "    }\n",
              "</style>\n",
              "<table border=\"1\" class=\"dataframe\">\n",
              "  <thead>\n",
              "    <tr style=\"text-align: right;\">\n",
              "      <th></th>\n",
              "      <th>vidid</th>\n",
              "      <th>views</th>\n",
              "      <th>likes</th>\n",
              "      <th>dislikes</th>\n",
              "      <th>comment</th>\n",
              "      <th>published</th>\n",
              "      <th>duration</th>\n",
              "      <th>category</th>\n",
              "    </tr>\n",
              "  </thead>\n",
              "  <tbody>\n",
              "    <tr>\n",
              "      <th>0</th>\n",
              "      <td>VID_1054</td>\n",
              "      <td>440238</td>\n",
              "      <td>6153</td>\n",
              "      <td>218</td>\n",
              "      <td>1377</td>\n",
              "      <td>2017-02-18</td>\n",
              "      <td>PT7M29S</td>\n",
              "      <td>B</td>\n",
              "    </tr>\n",
              "    <tr>\n",
              "      <th>1</th>\n",
              "      <td>VID_18629</td>\n",
              "      <td>1040132</td>\n",
              "      <td>8171</td>\n",
              "      <td>340</td>\n",
              "      <td>1047</td>\n",
              "      <td>2016-06-28</td>\n",
              "      <td>PT6M29S</td>\n",
              "      <td>F</td>\n",
              "    </tr>\n",
              "    <tr>\n",
              "      <th>2</th>\n",
              "      <td>VID_13967</td>\n",
              "      <td>28534</td>\n",
              "      <td>31</td>\n",
              "      <td>11</td>\n",
              "      <td>1</td>\n",
              "      <td>2014-03-10</td>\n",
              "      <td>PT37M54S</td>\n",
              "      <td>D</td>\n",
              "    </tr>\n",
              "    <tr>\n",
              "      <th>3</th>\n",
              "      <td>VID_19442</td>\n",
              "      <td>1316715</td>\n",
              "      <td>2284</td>\n",
              "      <td>250</td>\n",
              "      <td>274</td>\n",
              "      <td>2010-06-05</td>\n",
              "      <td>PT9M55S</td>\n",
              "      <td>G</td>\n",
              "    </tr>\n",
              "    <tr>\n",
              "      <th>4</th>\n",
              "      <td>VID_770</td>\n",
              "      <td>1893173</td>\n",
              "      <td>2519</td>\n",
              "      <td>225</td>\n",
              "      <td>116</td>\n",
              "      <td>2016-09-03</td>\n",
              "      <td>PT3M8S</td>\n",
              "      <td>B</td>\n",
              "    </tr>\n",
              "  </tbody>\n",
              "</table>\n",
              "</div>"
            ],
            "text/plain": [
              "       vidid    views likes dislikes comment   published  duration category\n",
              "0   VID_1054   440238  6153      218    1377  2017-02-18   PT7M29S        B\n",
              "1  VID_18629  1040132  8171      340    1047  2016-06-28   PT6M29S        F\n",
              "2  VID_13967    28534    31       11       1  2014-03-10  PT37M54S        D\n",
              "3  VID_19442  1316715  2284      250     274  2010-06-05   PT9M55S        G\n",
              "4    VID_770  1893173  2519      225     116  2016-09-03    PT3M8S        B"
            ]
          },
          "metadata": {
            "tags": []
          },
          "execution_count": 17
        }
      ]
    },
    {
      "cell_type": "code",
      "metadata": {
        "id": "kWC37ytgmUeO"
      },
      "source": [
        "from keras.models import load_model\r\n",
        "model = load_model(\"/content/ann_youtubeadview.h5\")"
      ],
      "execution_count": 18,
      "outputs": []
    },
    {
      "cell_type": "code",
      "metadata": {
        "id": "PWZ6g8PYuRT1"
      },
      "source": [
        "# Removing character \"F\" present in data\r\n",
        "data_test=data_test[data_test.views!='F']\r\n",
        "data_test=data_test[data_test.likes!='F']\r\n",
        "data_test=data_test[data_test.dislikes!='F']\r\n",
        "data_test=data_test[data_test.comment!='F']"
      ],
      "execution_count": 19,
      "outputs": []
    },
    {
      "cell_type": "code",
      "metadata": {
        "colab": {
          "base_uri": "https://localhost:8080/",
          "height": 195
        },
        "id": "SNjDxogyuRT1",
        "outputId": "510d869a-2b28-45b2-db3c-69c4c8283949"
      },
      "source": [
        "data_test.head()"
      ],
      "execution_count": 20,
      "outputs": [
        {
          "output_type": "execute_result",
          "data": {
            "text/html": [
              "<div>\n",
              "<style scoped>\n",
              "    .dataframe tbody tr th:only-of-type {\n",
              "        vertical-align: middle;\n",
              "    }\n",
              "\n",
              "    .dataframe tbody tr th {\n",
              "        vertical-align: top;\n",
              "    }\n",
              "\n",
              "    .dataframe thead th {\n",
              "        text-align: right;\n",
              "    }\n",
              "</style>\n",
              "<table border=\"1\" class=\"dataframe\">\n",
              "  <thead>\n",
              "    <tr style=\"text-align: right;\">\n",
              "      <th></th>\n",
              "      <th>vidid</th>\n",
              "      <th>views</th>\n",
              "      <th>likes</th>\n",
              "      <th>dislikes</th>\n",
              "      <th>comment</th>\n",
              "      <th>published</th>\n",
              "      <th>duration</th>\n",
              "      <th>category</th>\n",
              "    </tr>\n",
              "  </thead>\n",
              "  <tbody>\n",
              "    <tr>\n",
              "      <th>0</th>\n",
              "      <td>VID_1054</td>\n",
              "      <td>440238</td>\n",
              "      <td>6153</td>\n",
              "      <td>218</td>\n",
              "      <td>1377</td>\n",
              "      <td>2017-02-18</td>\n",
              "      <td>PT7M29S</td>\n",
              "      <td>B</td>\n",
              "    </tr>\n",
              "    <tr>\n",
              "      <th>1</th>\n",
              "      <td>VID_18629</td>\n",
              "      <td>1040132</td>\n",
              "      <td>8171</td>\n",
              "      <td>340</td>\n",
              "      <td>1047</td>\n",
              "      <td>2016-06-28</td>\n",
              "      <td>PT6M29S</td>\n",
              "      <td>F</td>\n",
              "    </tr>\n",
              "    <tr>\n",
              "      <th>2</th>\n",
              "      <td>VID_13967</td>\n",
              "      <td>28534</td>\n",
              "      <td>31</td>\n",
              "      <td>11</td>\n",
              "      <td>1</td>\n",
              "      <td>2014-03-10</td>\n",
              "      <td>PT37M54S</td>\n",
              "      <td>D</td>\n",
              "    </tr>\n",
              "    <tr>\n",
              "      <th>3</th>\n",
              "      <td>VID_19442</td>\n",
              "      <td>1316715</td>\n",
              "      <td>2284</td>\n",
              "      <td>250</td>\n",
              "      <td>274</td>\n",
              "      <td>2010-06-05</td>\n",
              "      <td>PT9M55S</td>\n",
              "      <td>G</td>\n",
              "    </tr>\n",
              "    <tr>\n",
              "      <th>4</th>\n",
              "      <td>VID_770</td>\n",
              "      <td>1893173</td>\n",
              "      <td>2519</td>\n",
              "      <td>225</td>\n",
              "      <td>116</td>\n",
              "      <td>2016-09-03</td>\n",
              "      <td>PT3M8S</td>\n",
              "      <td>B</td>\n",
              "    </tr>\n",
              "  </tbody>\n",
              "</table>\n",
              "</div>"
            ],
            "text/plain": [
              "       vidid    views likes dislikes comment   published  duration category\n",
              "0   VID_1054   440238  6153      218    1377  2017-02-18   PT7M29S        B\n",
              "1  VID_18629  1040132  8171      340    1047  2016-06-28   PT6M29S        F\n",
              "2  VID_13967    28534    31       11       1  2014-03-10  PT37M54S        D\n",
              "3  VID_19442  1316715  2284      250     274  2010-06-05   PT9M55S        G\n",
              "4    VID_770  1893173  2519      225     116  2016-09-03    PT3M8S        B"
            ]
          },
          "metadata": {
            "tags": []
          },
          "execution_count": 20
        }
      ]
    },
    {
      "cell_type": "code",
      "metadata": {
        "colab": {
          "base_uri": "https://localhost:8080/",
          "height": 195
        },
        "id": "M1wekjA4uRT2",
        "outputId": "3065f2f9-dd1d-4952-c5c8-79b201282b0c"
      },
      "source": [
        "# Assigning each category a number for Category feature\r\n",
        "category={'A': 1,'B':2,'C':3,'D':4,'E':5,'F':6,'G':7,'H':8}\r\n",
        "data_test[\"category\"]=data_test[\"category\"].map(category)\r\n",
        "data_test.head()"
      ],
      "execution_count": 21,
      "outputs": [
        {
          "output_type": "execute_result",
          "data": {
            "text/html": [
              "<div>\n",
              "<style scoped>\n",
              "    .dataframe tbody tr th:only-of-type {\n",
              "        vertical-align: middle;\n",
              "    }\n",
              "\n",
              "    .dataframe tbody tr th {\n",
              "        vertical-align: top;\n",
              "    }\n",
              "\n",
              "    .dataframe thead th {\n",
              "        text-align: right;\n",
              "    }\n",
              "</style>\n",
              "<table border=\"1\" class=\"dataframe\">\n",
              "  <thead>\n",
              "    <tr style=\"text-align: right;\">\n",
              "      <th></th>\n",
              "      <th>vidid</th>\n",
              "      <th>views</th>\n",
              "      <th>likes</th>\n",
              "      <th>dislikes</th>\n",
              "      <th>comment</th>\n",
              "      <th>published</th>\n",
              "      <th>duration</th>\n",
              "      <th>category</th>\n",
              "    </tr>\n",
              "  </thead>\n",
              "  <tbody>\n",
              "    <tr>\n",
              "      <th>0</th>\n",
              "      <td>VID_1054</td>\n",
              "      <td>440238</td>\n",
              "      <td>6153</td>\n",
              "      <td>218</td>\n",
              "      <td>1377</td>\n",
              "      <td>2017-02-18</td>\n",
              "      <td>PT7M29S</td>\n",
              "      <td>2</td>\n",
              "    </tr>\n",
              "    <tr>\n",
              "      <th>1</th>\n",
              "      <td>VID_18629</td>\n",
              "      <td>1040132</td>\n",
              "      <td>8171</td>\n",
              "      <td>340</td>\n",
              "      <td>1047</td>\n",
              "      <td>2016-06-28</td>\n",
              "      <td>PT6M29S</td>\n",
              "      <td>6</td>\n",
              "    </tr>\n",
              "    <tr>\n",
              "      <th>2</th>\n",
              "      <td>VID_13967</td>\n",
              "      <td>28534</td>\n",
              "      <td>31</td>\n",
              "      <td>11</td>\n",
              "      <td>1</td>\n",
              "      <td>2014-03-10</td>\n",
              "      <td>PT37M54S</td>\n",
              "      <td>4</td>\n",
              "    </tr>\n",
              "    <tr>\n",
              "      <th>3</th>\n",
              "      <td>VID_19442</td>\n",
              "      <td>1316715</td>\n",
              "      <td>2284</td>\n",
              "      <td>250</td>\n",
              "      <td>274</td>\n",
              "      <td>2010-06-05</td>\n",
              "      <td>PT9M55S</td>\n",
              "      <td>7</td>\n",
              "    </tr>\n",
              "    <tr>\n",
              "      <th>4</th>\n",
              "      <td>VID_770</td>\n",
              "      <td>1893173</td>\n",
              "      <td>2519</td>\n",
              "      <td>225</td>\n",
              "      <td>116</td>\n",
              "      <td>2016-09-03</td>\n",
              "      <td>PT3M8S</td>\n",
              "      <td>2</td>\n",
              "    </tr>\n",
              "  </tbody>\n",
              "</table>\n",
              "</div>"
            ],
            "text/plain": [
              "       vidid    views likes dislikes comment   published  duration  category\n",
              "0   VID_1054   440238  6153      218    1377  2017-02-18   PT7M29S         2\n",
              "1  VID_18629  1040132  8171      340    1047  2016-06-28   PT6M29S         6\n",
              "2  VID_13967    28534    31       11       1  2014-03-10  PT37M54S         4\n",
              "3  VID_19442  1316715  2284      250     274  2010-06-05   PT9M55S         7\n",
              "4    VID_770  1893173  2519      225     116  2016-09-03    PT3M8S         2"
            ]
          },
          "metadata": {
            "tags": []
          },
          "execution_count": 21
        }
      ]
    },
    {
      "cell_type": "code",
      "metadata": {
        "colab": {
          "base_uri": "https://localhost:8080/",
          "height": 195
        },
        "id": "ggksN6H4vOWi",
        "outputId": "281ca1b4-2e59-4e02-f807-41d42660e8a7"
      },
      "source": [
        "# Convert values to integers for views, likes, comments, dislikes and adview\r\n",
        "data_test[\"views\"] = pd.to_numeric(data_test[\"views\"])\r\n",
        "data_test[\"comment\"] = pd.to_numeric(data_test[\"comment\"])\r\n",
        "data_test[\"likes\"] = pd.to_numeric(data_test[\"likes\"])\r\n",
        "data_test[\"dislikes\"] = pd.to_numeric(data_test[\"dislikes\"])\r\n",
        "column_vidid=data_test['vidid']\r\n",
        "\r\n",
        "# Endoding features like Category, Duration, Vidid\r\n",
        "from sklearn.preprocessing import LabelEncoder\r\n",
        "data_test['duration']=LabelEncoder().fit_transform(data_test['duration'])\r\n",
        "data_test['vidid']=LabelEncoder().fit_transform(data_test['vidid'])\r\n",
        "data_test['published']=LabelEncoder().fit_transform(data_test['published'])\r\n",
        "data_test.head()\r\n"
      ],
      "execution_count": 22,
      "outputs": [
        {
          "output_type": "execute_result",
          "data": {
            "text/html": [
              "<div>\n",
              "<style scoped>\n",
              "    .dataframe tbody tr th:only-of-type {\n",
              "        vertical-align: middle;\n",
              "    }\n",
              "\n",
              "    .dataframe tbody tr th {\n",
              "        vertical-align: top;\n",
              "    }\n",
              "\n",
              "    .dataframe thead th {\n",
              "        text-align: right;\n",
              "    }\n",
              "</style>\n",
              "<table border=\"1\" class=\"dataframe\">\n",
              "  <thead>\n",
              "    <tr style=\"text-align: right;\">\n",
              "      <th></th>\n",
              "      <th>vidid</th>\n",
              "      <th>views</th>\n",
              "      <th>likes</th>\n",
              "      <th>dislikes</th>\n",
              "      <th>comment</th>\n",
              "      <th>published</th>\n",
              "      <th>duration</th>\n",
              "      <th>category</th>\n",
              "    </tr>\n",
              "  </thead>\n",
              "  <tbody>\n",
              "    <tr>\n",
              "      <th>0</th>\n",
              "      <td>231</td>\n",
              "      <td>440238</td>\n",
              "      <td>6153</td>\n",
              "      <td>218</td>\n",
              "      <td>1377</td>\n",
              "      <td>2053</td>\n",
              "      <td>2115</td>\n",
              "      <td>2</td>\n",
              "    </tr>\n",
              "    <tr>\n",
              "      <th>1</th>\n",
              "      <td>3444</td>\n",
              "      <td>1040132</td>\n",
              "      <td>8171</td>\n",
              "      <td>340</td>\n",
              "      <td>1047</td>\n",
              "      <td>1825</td>\n",
              "      <td>2055</td>\n",
              "      <td>6</td>\n",
              "    </tr>\n",
              "    <tr>\n",
              "      <th>2</th>\n",
              "      <td>1593</td>\n",
              "      <td>28534</td>\n",
              "      <td>31</td>\n",
              "      <td>11</td>\n",
              "      <td>1</td>\n",
              "      <td>1009</td>\n",
              "      <td>1506</td>\n",
              "      <td>4</td>\n",
              "    </tr>\n",
              "    <tr>\n",
              "      <th>3</th>\n",
              "      <td>3775</td>\n",
              "      <td>1316715</td>\n",
              "      <td>2284</td>\n",
              "      <td>250</td>\n",
              "      <td>274</td>\n",
              "      <td>116</td>\n",
              "      <td>2265</td>\n",
              "      <td>7</td>\n",
              "    </tr>\n",
              "    <tr>\n",
              "      <th>4</th>\n",
              "      <td>7644</td>\n",
              "      <td>1893173</td>\n",
              "      <td>2519</td>\n",
              "      <td>225</td>\n",
              "      <td>116</td>\n",
              "      <td>1892</td>\n",
              "      <td>1625</td>\n",
              "      <td>2</td>\n",
              "    </tr>\n",
              "  </tbody>\n",
              "</table>\n",
              "</div>"
            ],
            "text/plain": [
              "   vidid    views  likes  dislikes  comment  published  duration  category\n",
              "0    231   440238   6153       218     1377       2053      2115         2\n",
              "1   3444  1040132   8171       340     1047       1825      2055         6\n",
              "2   1593    28534     31        11        1       1009      1506         4\n",
              "3   3775  1316715   2284       250      274        116      2265         7\n",
              "4   7644  1893173   2519       225      116       1892      1625         2"
            ]
          },
          "metadata": {
            "tags": []
          },
          "execution_count": 22
        }
      ]
    },
    {
      "cell_type": "code",
      "metadata": {
        "colab": {
          "base_uri": "https://localhost:8080/",
          "height": 195
        },
        "id": "U9FNyF_tuRT3",
        "outputId": "ea9ecaa1-585d-4c53-86fc-c20d52671361"
      },
      "source": [
        "\r\n",
        "# Convert Time_in_sec for duration\r\n",
        "import datetime\r\n",
        "import time\r\n",
        "def checki(x):\r\n",
        "  y = x[2:]\r\n",
        "  h = ''\r\n",
        "  m = ''\r\n",
        "  s = ''\r\n",
        "  mm = ''\r\n",
        "  P = ['H','M','S']\r\n",
        "  for i in y:\r\n",
        "    if i not in P:\r\n",
        "      mm+=i\r\n",
        "    else:\r\n",
        "      if(i==\"H\"):\r\n",
        "        h = mm\r\n",
        "        mm = ''\r\n",
        "      elif(i == \"M\"):\r\n",
        "        m = mm\r\n",
        "        mm = ''\r\n",
        "      else:\r\n",
        "        s = mm\r\n",
        "        mm = ''\r\n",
        "  if(h==''):\r\n",
        "    h = '00'\r\n",
        "  if(m == ''):\r\n",
        "    m = '00'\r\n",
        "  if(s==''):\r\n",
        "    s='00'\r\n",
        "  bp = h+':'+m+':'+s\r\n",
        "  return bp\r\n",
        "\r\n",
        "train=pd.read_csv(\"test.csv\")\r\n",
        "mp = pd.read_csv(path)[\"duration\"]\r\n",
        "time = mp.apply(checki)\r\n",
        "\r\n",
        "def func_sec(time_string):\r\n",
        "  h, m, s = time_string.split(':')\r\n",
        "  return int(h) * 3600 + int(m) * 60 + int(s)\r\n",
        "\r\n",
        "time1=time.apply(func_sec)\r\n",
        "\r\n",
        "data_test[\"duration\"]=time1\r\n",
        "data_test.head()"
      ],
      "execution_count": 23,
      "outputs": [
        {
          "output_type": "execute_result",
          "data": {
            "text/html": [
              "<div>\n",
              "<style scoped>\n",
              "    .dataframe tbody tr th:only-of-type {\n",
              "        vertical-align: middle;\n",
              "    }\n",
              "\n",
              "    .dataframe tbody tr th {\n",
              "        vertical-align: top;\n",
              "    }\n",
              "\n",
              "    .dataframe thead th {\n",
              "        text-align: right;\n",
              "    }\n",
              "</style>\n",
              "<table border=\"1\" class=\"dataframe\">\n",
              "  <thead>\n",
              "    <tr style=\"text-align: right;\">\n",
              "      <th></th>\n",
              "      <th>vidid</th>\n",
              "      <th>views</th>\n",
              "      <th>likes</th>\n",
              "      <th>dislikes</th>\n",
              "      <th>comment</th>\n",
              "      <th>published</th>\n",
              "      <th>duration</th>\n",
              "      <th>category</th>\n",
              "    </tr>\n",
              "  </thead>\n",
              "  <tbody>\n",
              "    <tr>\n",
              "      <th>0</th>\n",
              "      <td>231</td>\n",
              "      <td>440238</td>\n",
              "      <td>6153</td>\n",
              "      <td>218</td>\n",
              "      <td>1377</td>\n",
              "      <td>2053</td>\n",
              "      <td>457</td>\n",
              "      <td>2</td>\n",
              "    </tr>\n",
              "    <tr>\n",
              "      <th>1</th>\n",
              "      <td>3444</td>\n",
              "      <td>1040132</td>\n",
              "      <td>8171</td>\n",
              "      <td>340</td>\n",
              "      <td>1047</td>\n",
              "      <td>1825</td>\n",
              "      <td>570</td>\n",
              "      <td>6</td>\n",
              "    </tr>\n",
              "    <tr>\n",
              "      <th>2</th>\n",
              "      <td>1593</td>\n",
              "      <td>28534</td>\n",
              "      <td>31</td>\n",
              "      <td>11</td>\n",
              "      <td>1</td>\n",
              "      <td>1009</td>\n",
              "      <td>136</td>\n",
              "      <td>4</td>\n",
              "    </tr>\n",
              "    <tr>\n",
              "      <th>3</th>\n",
              "      <td>3775</td>\n",
              "      <td>1316715</td>\n",
              "      <td>2284</td>\n",
              "      <td>250</td>\n",
              "      <td>274</td>\n",
              "      <td>116</td>\n",
              "      <td>262</td>\n",
              "      <td>7</td>\n",
              "    </tr>\n",
              "    <tr>\n",
              "      <th>4</th>\n",
              "      <td>7644</td>\n",
              "      <td>1893173</td>\n",
              "      <td>2519</td>\n",
              "      <td>225</td>\n",
              "      <td>116</td>\n",
              "      <td>1892</td>\n",
              "      <td>31</td>\n",
              "      <td>2</td>\n",
              "    </tr>\n",
              "  </tbody>\n",
              "</table>\n",
              "</div>"
            ],
            "text/plain": [
              "   vidid    views  likes  dislikes  comment  published  duration  category\n",
              "0    231   440238   6153       218     1377       2053       457         2\n",
              "1   3444  1040132   8171       340     1047       1825       570         6\n",
              "2   1593    28534     31        11        1       1009       136         4\n",
              "3   3775  1316715   2284       250      274        116       262         7\n",
              "4   7644  1893173   2519       225      116       1892        31         2"
            ]
          },
          "metadata": {
            "tags": []
          },
          "execution_count": 23
        }
      ]
    },
    {
      "cell_type": "code",
      "metadata": {
        "colab": {
          "base_uri": "https://localhost:8080/",
          "height": 195
        },
        "id": "AkzZzoEqvq8F",
        "outputId": "81e7dc34-d3d3-4c76-e172-c1f7d3c7a44a"
      },
      "source": [
        "data_test=data_test.drop([\"vidid\"],axis=1)\r\n",
        "data_test.head()"
      ],
      "execution_count": 24,
      "outputs": [
        {
          "output_type": "execute_result",
          "data": {
            "text/html": [
              "<div>\n",
              "<style scoped>\n",
              "    .dataframe tbody tr th:only-of-type {\n",
              "        vertical-align: middle;\n",
              "    }\n",
              "\n",
              "    .dataframe tbody tr th {\n",
              "        vertical-align: top;\n",
              "    }\n",
              "\n",
              "    .dataframe thead th {\n",
              "        text-align: right;\n",
              "    }\n",
              "</style>\n",
              "<table border=\"1\" class=\"dataframe\">\n",
              "  <thead>\n",
              "    <tr style=\"text-align: right;\">\n",
              "      <th></th>\n",
              "      <th>views</th>\n",
              "      <th>likes</th>\n",
              "      <th>dislikes</th>\n",
              "      <th>comment</th>\n",
              "      <th>published</th>\n",
              "      <th>duration</th>\n",
              "      <th>category</th>\n",
              "    </tr>\n",
              "  </thead>\n",
              "  <tbody>\n",
              "    <tr>\n",
              "      <th>0</th>\n",
              "      <td>440238</td>\n",
              "      <td>6153</td>\n",
              "      <td>218</td>\n",
              "      <td>1377</td>\n",
              "      <td>2053</td>\n",
              "      <td>457</td>\n",
              "      <td>2</td>\n",
              "    </tr>\n",
              "    <tr>\n",
              "      <th>1</th>\n",
              "      <td>1040132</td>\n",
              "      <td>8171</td>\n",
              "      <td>340</td>\n",
              "      <td>1047</td>\n",
              "      <td>1825</td>\n",
              "      <td>570</td>\n",
              "      <td>6</td>\n",
              "    </tr>\n",
              "    <tr>\n",
              "      <th>2</th>\n",
              "      <td>28534</td>\n",
              "      <td>31</td>\n",
              "      <td>11</td>\n",
              "      <td>1</td>\n",
              "      <td>1009</td>\n",
              "      <td>136</td>\n",
              "      <td>4</td>\n",
              "    </tr>\n",
              "    <tr>\n",
              "      <th>3</th>\n",
              "      <td>1316715</td>\n",
              "      <td>2284</td>\n",
              "      <td>250</td>\n",
              "      <td>274</td>\n",
              "      <td>116</td>\n",
              "      <td>262</td>\n",
              "      <td>7</td>\n",
              "    </tr>\n",
              "    <tr>\n",
              "      <th>4</th>\n",
              "      <td>1893173</td>\n",
              "      <td>2519</td>\n",
              "      <td>225</td>\n",
              "      <td>116</td>\n",
              "      <td>1892</td>\n",
              "      <td>31</td>\n",
              "      <td>2</td>\n",
              "    </tr>\n",
              "  </tbody>\n",
              "</table>\n",
              "</div>"
            ],
            "text/plain": [
              "     views  likes  dislikes  comment  published  duration  category\n",
              "0   440238   6153       218     1377       2053       457         2\n",
              "1  1040132   8171       340     1047       1825       570         6\n",
              "2    28534     31        11        1       1009       136         4\n",
              "3  1316715   2284       250      274        116       262         7\n",
              "4  1893173   2519       225      116       1892        31         2"
            ]
          },
          "metadata": {
            "tags": []
          },
          "execution_count": 24
        }
      ]
    },
    {
      "cell_type": "code",
      "metadata": {
        "id": "H5qjUCfn4y9T"
      },
      "source": [
        "from sklearn.preprocessing import MinMaxScaler\r\n",
        "scaler = MinMaxScaler()\r\n",
        "X_test = data_test\r\n",
        "X_test=scaler.fit_transform(X_test)"
      ],
      "execution_count": 25,
      "outputs": []
    },
    {
      "cell_type": "code",
      "metadata": {
        "id": "pmlvTICqwDqT"
      },
      "source": [
        "prediction = model.predict(X_test)"
      ],
      "execution_count": 26,
      "outputs": []
    },
    {
      "cell_type": "code",
      "metadata": {
        "colab": {
          "base_uri": "https://localhost:8080/"
        },
        "id": "mnCNDYjU0_sf",
        "outputId": "2026657f-4393-4bfd-9b56-5a867512c4a8"
      },
      "source": [
        "prediction=pd.DataFrame(prediction)\r\n",
        "prediction.info()"
      ],
      "execution_count": 27,
      "outputs": [
        {
          "output_type": "stream",
          "text": [
            "<class 'pandas.core.frame.DataFrame'>\n",
            "RangeIndex: 8549 entries, 0 to 8548\n",
            "Data columns (total 1 columns):\n",
            " #   Column  Non-Null Count  Dtype  \n",
            "---  ------  --------------  -----  \n",
            " 0   0       8549 non-null   float32\n",
            "dtypes: float32(1)\n",
            "memory usage: 33.5 KB\n"
          ],
          "name": "stdout"
        }
      ]
    },
    {
      "cell_type": "code",
      "metadata": {
        "id": "VD8_Kk9P6eN7"
      },
      "source": [
        "prediction = prediction.rename(columns={0: \"Adview\"})"
      ],
      "execution_count": 28,
      "outputs": []
    },
    {
      "cell_type": "code",
      "metadata": {
        "colab": {
          "base_uri": "https://localhost:8080/",
          "height": 195
        },
        "id": "ypN5Ib4k7SQp",
        "outputId": "ed8a611a-6670-409f-f4c8-18f1c0cb4467"
      },
      "source": [
        "prediction.head()"
      ],
      "execution_count": 29,
      "outputs": [
        {
          "output_type": "execute_result",
          "data": {
            "text/html": [
              "<div>\n",
              "<style scoped>\n",
              "    .dataframe tbody tr th:only-of-type {\n",
              "        vertical-align: middle;\n",
              "    }\n",
              "\n",
              "    .dataframe tbody tr th {\n",
              "        vertical-align: top;\n",
              "    }\n",
              "\n",
              "    .dataframe thead th {\n",
              "        text-align: right;\n",
              "    }\n",
              "</style>\n",
              "<table border=\"1\" class=\"dataframe\">\n",
              "  <thead>\n",
              "    <tr style=\"text-align: right;\">\n",
              "      <th></th>\n",
              "      <th>Adview</th>\n",
              "    </tr>\n",
              "  </thead>\n",
              "  <tbody>\n",
              "    <tr>\n",
              "      <th>0</th>\n",
              "      <td>2167.144043</td>\n",
              "    </tr>\n",
              "    <tr>\n",
              "      <th>1</th>\n",
              "      <td>2330.150879</td>\n",
              "    </tr>\n",
              "    <tr>\n",
              "      <th>2</th>\n",
              "      <td>1572.538940</td>\n",
              "    </tr>\n",
              "    <tr>\n",
              "      <th>3</th>\n",
              "      <td>1154.258423</td>\n",
              "    </tr>\n",
              "    <tr>\n",
              "      <th>4</th>\n",
              "      <td>2101.321289</td>\n",
              "    </tr>\n",
              "  </tbody>\n",
              "</table>\n",
              "</div>"
            ],
            "text/plain": [
              "        Adview\n",
              "0  2167.144043\n",
              "1  2330.150879\n",
              "2  1572.538940\n",
              "3  1154.258423\n",
              "4  2101.321289"
            ]
          },
          "metadata": {
            "tags": []
          },
          "execution_count": 29
        }
      ]
    },
    {
      "cell_type": "code",
      "metadata": {
        "id": "O-Q8_jBf6CvE"
      },
      "source": [
        "prediction.to_csv('predictions.csv')"
      ],
      "execution_count": 30,
      "outputs": []
    }
  ]
}